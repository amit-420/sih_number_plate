{
 "cells": [
  {
   "cell_type": "code",
   "execution_count": 1,
   "metadata": {},
   "outputs": [],
   "source": [
    "import torch\n",
    "import torch.nn as nn\n",
    "import torch.nn.functional as F\n",
    "\n",
    "import os\n",
    "from tqdm import tqdm\n",
    "\n",
    "from helper import *\n",
    "from models.enet.model import *"
   ]
  },
  {
   "cell_type": "code",
   "execution_count": 2,
   "metadata": {},
   "outputs": [],
   "source": [
    "os.system('rm -rf /home/himanshu/dl/dataset/valid_sih/images/.ipynb_checkpoints/')\n",
    "os.system('rm -rf /home/himanshu/dl/dataset/valid_sih/masks/.ipynb_checkpoints/')"
   ]
  },
  {
   "cell_type": "code",
   "execution_count": 3,
   "metadata": {
    "scrolled": true
   },
   "outputs": [
    {
     "name": "stderr",
     "output_type": "stream",
     "text": [
      "Epoch 1/150: 100%|██████████| 1/1 [00:03<00:00,  3.72s/it, loss=1.8]\n",
      "  0%|          | 0/1 [00:00<?, ?it/s]"
     ]
    },
    {
     "name": "stdout",
     "output_type": "stream",
     "text": [
      "new max_iou 0.013904200000197217\n",
      "avg_iou:  0.013904200000197217\n",
      "avg_loss:  1.801692247390747\n"
     ]
    },
    {
     "name": "stderr",
     "output_type": "stream",
     "text": [
      "Epoch 2/150: 100%|██████████| 1/1 [00:01<00:00,  1.44s/it, loss=1.78]\n",
      "  0%|          | 0/1 [00:00<?, ?it/s]"
     ]
    },
    {
     "name": "stdout",
     "output_type": "stream",
     "text": [
      "avg_iou:  0.01390376406461318\n",
      "avg_loss:  1.7766387462615967\n"
     ]
    },
    {
     "name": "stderr",
     "output_type": "stream",
     "text": [
      "Epoch 3/150: 100%|██████████| 1/1 [00:01<00:00,  1.44s/it, loss=1.77]\n",
      "  0%|          | 0/1 [00:00<?, ?it/s]"
     ]
    },
    {
     "name": "stdout",
     "output_type": "stream",
     "text": [
      "avg_iou:  0.013901009612222832\n",
      "avg_loss:  1.7720811367034912\n"
     ]
    },
    {
     "name": "stderr",
     "output_type": "stream",
     "text": [
      "Epoch 4/150: 100%|██████████| 1/1 [00:01<00:00,  1.44s/it, loss=1.75]\n",
      "  0%|          | 0/1 [00:00<?, ?it/s]"
     ]
    },
    {
     "name": "stdout",
     "output_type": "stream",
     "text": [
      "avg_iou:  0.01390192221622068\n",
      "avg_loss:  1.7457796335220337\n"
     ]
    },
    {
     "name": "stderr",
     "output_type": "stream",
     "text": [
      "Epoch 5/150: 100%|██████████| 1/1 [00:01<00:00,  1.43s/it, loss=1.73]\n",
      "  0%|          | 0/1 [00:00<?, ?it/s]"
     ]
    },
    {
     "name": "stdout",
     "output_type": "stream",
     "text": [
      "avg_iou:  0.013880215822039323\n",
      "avg_loss:  1.7298598289489746\n"
     ]
    },
    {
     "name": "stderr",
     "output_type": "stream",
     "text": [
      "Epoch 6/150: 100%|██████████| 1/1 [00:01<00:00,  1.44s/it, loss=1.71]\n",
      "  0%|          | 0/1 [00:00<?, ?it/s]"
     ]
    },
    {
     "name": "stdout",
     "output_type": "stream",
     "text": [
      "avg_iou:  0.013867177985823188\n",
      "avg_loss:  1.7076094150543213\n"
     ]
    },
    {
     "name": "stderr",
     "output_type": "stream",
     "text": [
      "Epoch 7/150: 100%|██████████| 1/1 [00:01<00:00,  1.43s/it, loss=1.7]\n",
      "  0%|          | 0/1 [00:00<?, ?it/s]"
     ]
    },
    {
     "name": "stdout",
     "output_type": "stream",
     "text": [
      "avg_iou:  0.01381692826744886\n",
      "avg_loss:  1.7009618282318115\n"
     ]
    },
    {
     "name": "stderr",
     "output_type": "stream",
     "text": [
      "Epoch 8/150: 100%|██████████| 1/1 [00:01<00:00,  1.44s/it, loss=1.68]\n",
      "  0%|          | 0/1 [00:00<?, ?it/s]"
     ]
    },
    {
     "name": "stdout",
     "output_type": "stream",
     "text": [
      "avg_iou:  0.013799002632019329\n",
      "avg_loss:  1.679070234298706\n"
     ]
    },
    {
     "name": "stderr",
     "output_type": "stream",
     "text": [
      "Epoch 9/150: 100%|██████████| 1/1 [00:01<00:00,  1.43s/it, loss=1.67]\n",
      "  0%|          | 0/1 [00:00<?, ?it/s]"
     ]
    },
    {
     "name": "stdout",
     "output_type": "stream",
     "text": [
      "avg_iou:  0.013804331903131678\n",
      "avg_loss:  1.670894742012024\n"
     ]
    },
    {
     "name": "stderr",
     "output_type": "stream",
     "text": [
      "Epoch 10/150: 100%|██████████| 1/1 [00:01<00:00,  1.43s/it, loss=1.65]\n",
      "  0%|          | 0/1 [00:00<?, ?it/s]"
     ]
    },
    {
     "name": "stdout",
     "output_type": "stream",
     "text": [
      "avg_iou:  0.013806275427707545\n",
      "avg_loss:  1.6484365463256836\n"
     ]
    },
    {
     "name": "stderr",
     "output_type": "stream",
     "text": [
      "Epoch 11/150: 100%|██████████| 1/1 [00:01<00:00,  1.43s/it, loss=1.63]\n",
      "  0%|          | 0/1 [00:00<?, ?it/s]"
     ]
    },
    {
     "name": "stdout",
     "output_type": "stream",
     "text": [
      "avg_iou:  0.01381549355469433\n",
      "avg_loss:  1.6285650730133057\n"
     ]
    },
    {
     "name": "stderr",
     "output_type": "stream",
     "text": [
      "Epoch 12/150: 100%|██████████| 1/1 [00:01<00:00,  1.42s/it, loss=1.6]\n",
      "  0%|          | 0/1 [00:00<?, ?it/s]"
     ]
    },
    {
     "name": "stdout",
     "output_type": "stream",
     "text": [
      "avg_iou:  0.013820171331263474\n",
      "avg_loss:  1.6004838943481445\n"
     ]
    },
    {
     "name": "stderr",
     "output_type": "stream",
     "text": [
      "Epoch 13/150: 100%|██████████| 1/1 [00:01<00:00,  1.42s/it, loss=1.58]\n",
      "  0%|          | 0/1 [00:00<?, ?it/s]"
     ]
    },
    {
     "name": "stdout",
     "output_type": "stream",
     "text": [
      "avg_iou:  0.013787068445646448\n",
      "avg_loss:  1.5795668363571167\n"
     ]
    },
    {
     "name": "stderr",
     "output_type": "stream",
     "text": [
      "Epoch 14/150: 100%|██████████| 1/1 [00:01<00:00,  1.42s/it, loss=1.55]\n",
      "  0%|          | 0/1 [00:00<?, ?it/s]"
     ]
    },
    {
     "name": "stdout",
     "output_type": "stream",
     "text": [
      "avg_iou:  0.013745315072971127\n",
      "avg_loss:  1.5498101711273193\n"
     ]
    },
    {
     "name": "stderr",
     "output_type": "stream",
     "text": [
      "Epoch 15/150: 100%|██████████| 1/1 [00:01<00:00,  1.41s/it, loss=1.54]\n",
      "  0%|          | 0/1 [00:00<?, ?it/s]"
     ]
    },
    {
     "name": "stdout",
     "output_type": "stream",
     "text": [
      "avg_iou:  0.013712220362995171\n",
      "avg_loss:  1.5357099771499634\n"
     ]
    },
    {
     "name": "stderr",
     "output_type": "stream",
     "text": [
      "Epoch 16/150: 100%|██████████| 1/1 [00:01<00:00,  1.41s/it, loss=1.49]\n",
      "  0%|          | 0/1 [00:00<?, ?it/s]"
     ]
    },
    {
     "name": "stdout",
     "output_type": "stream",
     "text": [
      "avg_iou:  0.013717351186495978\n",
      "avg_loss:  1.485673189163208\n"
     ]
    },
    {
     "name": "stderr",
     "output_type": "stream",
     "text": [
      "Epoch 17/150: 100%|██████████| 1/1 [00:01<00:00,  1.41s/it, loss=1.45]\n",
      "  0%|          | 0/1 [00:00<?, ?it/s]"
     ]
    },
    {
     "name": "stdout",
     "output_type": "stream",
     "text": [
      "avg_iou:  0.01383905668427551\n",
      "avg_loss:  1.4483920335769653\n"
     ]
    },
    {
     "name": "stderr",
     "output_type": "stream",
     "text": [
      "Epoch 18/150: 100%|██████████| 1/1 [00:01<00:00,  1.45s/it, loss=1.43]\n",
      "  0%|          | 0/1 [00:00<?, ?it/s]"
     ]
    },
    {
     "name": "stdout",
     "output_type": "stream",
     "text": [
      "new max_iou 0.01395654611030394\n",
      "avg_iou:  0.01395654611030394\n",
      "avg_loss:  1.4254541397094727\n"
     ]
    },
    {
     "name": "stderr",
     "output_type": "stream",
     "text": [
      "Epoch 19/150: 100%|██████████| 1/1 [00:01<00:00,  1.43s/it, loss=1.39]\n",
      "  0%|          | 0/1 [00:00<?, ?it/s]"
     ]
    },
    {
     "name": "stdout",
     "output_type": "stream",
     "text": [
      "new max_iou 0.014128260463035383\n",
      "avg_iou:  0.014128260463035383\n",
      "avg_loss:  1.3943583965301514\n"
     ]
    },
    {
     "name": "stderr",
     "output_type": "stream",
     "text": [
      "Epoch 20/150: 100%|██████████| 1/1 [00:01<00:00,  1.39s/it, loss=1.36]\n",
      "  0%|          | 0/1 [00:00<?, ?it/s]"
     ]
    },
    {
     "name": "stdout",
     "output_type": "stream",
     "text": [
      "avg_iou:  0.013994268791250014\n",
      "avg_loss:  1.3613717555999756\n"
     ]
    },
    {
     "name": "stderr",
     "output_type": "stream",
     "text": [
      "Epoch 21/150: 100%|██████████| 1/1 [00:01<00:00,  1.45s/it, loss=1.33]\n",
      "  0%|          | 0/1 [00:00<?, ?it/s]"
     ]
    },
    {
     "name": "stdout",
     "output_type": "stream",
     "text": [
      "new max_iou 0.014281416062076705\n",
      "avg_iou:  0.014281416062076705\n",
      "avg_loss:  1.3255654573440552\n"
     ]
    },
    {
     "name": "stderr",
     "output_type": "stream",
     "text": [
      "Epoch 22/150: 100%|██████████| 1/1 [00:01<00:00,  1.43s/it, loss=1.29]\n",
      "  0%|          | 0/1 [00:00<?, ?it/s]"
     ]
    },
    {
     "name": "stdout",
     "output_type": "stream",
     "text": [
      "new max_iou 0.016858444242322964\n",
      "avg_iou:  0.016858444242322964\n",
      "avg_loss:  1.288407564163208\n"
     ]
    },
    {
     "name": "stderr",
     "output_type": "stream",
     "text": [
      "Epoch 23/150: 100%|██████████| 1/1 [00:01<00:00,  1.44s/it, loss=1.25]\n",
      "  0%|          | 0/1 [00:00<?, ?it/s]"
     ]
    },
    {
     "name": "stdout",
     "output_type": "stream",
     "text": [
      "new max_iou 0.0179815679597003\n",
      "avg_iou:  0.0179815679597003\n",
      "avg_loss:  1.2521140575408936\n"
     ]
    },
    {
     "name": "stderr",
     "output_type": "stream",
     "text": [
      "Epoch 24/150: 100%|██████████| 1/1 [00:01<00:00,  1.43s/it, loss=1.2]\n",
      "  0%|          | 0/1 [00:00<?, ?it/s]"
     ]
    },
    {
     "name": "stdout",
     "output_type": "stream",
     "text": [
      "new max_iou 0.019647126644325053\n",
      "avg_iou:  0.019647126644325053\n",
      "avg_loss:  1.2040319442749023\n"
     ]
    },
    {
     "name": "stderr",
     "output_type": "stream",
     "text": [
      "Epoch 25/150: 100%|██████████| 1/1 [00:01<00:00,  1.44s/it, loss=1.16]\n",
      "  0%|          | 0/1 [00:00<?, ?it/s]"
     ]
    },
    {
     "name": "stdout",
     "output_type": "stream",
     "text": [
      "new max_iou 0.021411194005428014\n",
      "avg_iou:  0.021411194005428014\n",
      "avg_loss:  1.1634610891342163\n"
     ]
    },
    {
     "name": "stderr",
     "output_type": "stream",
     "text": [
      "Epoch 26/150: 100%|██████████| 1/1 [00:01<00:00,  1.43s/it, loss=1.15]\n",
      "  0%|          | 0/1 [00:00<?, ?it/s]"
     ]
    },
    {
     "name": "stdout",
     "output_type": "stream",
     "text": [
      "new max_iou 0.03687757709126009\n",
      "avg_iou:  0.03687757709126009\n",
      "avg_loss:  1.1502271890640259\n"
     ]
    },
    {
     "name": "stderr",
     "output_type": "stream",
     "text": [
      "Epoch 27/150: 100%|██████████| 1/1 [00:01<00:00,  1.40s/it, loss=1.11]\n",
      "  0%|          | 0/1 [00:00<?, ?it/s]"
     ]
    },
    {
     "name": "stdout",
     "output_type": "stream",
     "text": [
      "avg_iou:  0.025150768527293848\n",
      "avg_loss:  1.1077947616577148\n"
     ]
    },
    {
     "name": "stderr",
     "output_type": "stream",
     "text": [
      "Epoch 28/150: 100%|██████████| 1/1 [00:01<00:00,  1.40s/it, loss=1.08]\n",
      "  0%|          | 0/1 [00:00<?, ?it/s]"
     ]
    },
    {
     "name": "stdout",
     "output_type": "stream",
     "text": [
      "avg_iou:  0.023805584484474195\n",
      "avg_loss:  1.0768804550170898\n"
     ]
    },
    {
     "name": "stderr",
     "output_type": "stream",
     "text": [
      "Epoch 29/150: 100%|██████████| 1/1 [00:01<00:00,  1.38s/it, loss=1.01]\n",
      "  0%|          | 0/1 [00:00<?, ?it/s]"
     ]
    },
    {
     "name": "stdout",
     "output_type": "stream",
     "text": [
      "avg_iou:  0.028615924812358334\n",
      "avg_loss:  1.0068962574005127\n"
     ]
    },
    {
     "name": "stderr",
     "output_type": "stream",
     "text": [
      "Epoch 30/150: 100%|██████████| 1/1 [00:01<00:00,  1.40s/it, loss=0.954]\n",
      "  0%|          | 0/1 [00:00<?, ?it/s]"
     ]
    },
    {
     "name": "stdout",
     "output_type": "stream",
     "text": [
      "avg_iou:  0.01869557818183704\n",
      "avg_loss:  0.9539620876312256\n"
     ]
    },
    {
     "name": "stderr",
     "output_type": "stream",
     "text": [
      "Epoch 31/150: 100%|██████████| 1/1 [00:01<00:00,  1.41s/it, loss=0.909]\n",
      "  0%|          | 0/1 [00:00<?, ?it/s]"
     ]
    },
    {
     "name": "stdout",
     "output_type": "stream",
     "text": [
      "avg_iou:  0.01565151191212749\n",
      "avg_loss:  0.9090042114257812\n"
     ]
    },
    {
     "name": "stderr",
     "output_type": "stream",
     "text": [
      "Epoch 32/150: 100%|██████████| 1/1 [00:01<00:00,  1.39s/it, loss=0.841]\n",
      "  0%|          | 0/1 [00:00<?, ?it/s]"
     ]
    },
    {
     "name": "stdout",
     "output_type": "stream",
     "text": [
      "avg_iou:  0.013278652491504964\n",
      "avg_loss:  0.841127872467041\n"
     ]
    },
    {
     "name": "stderr",
     "output_type": "stream",
     "text": [
      "Epoch 33/150: 100%|██████████| 1/1 [00:01<00:00,  1.39s/it, loss=0.821]\n",
      "  0%|          | 0/1 [00:00<?, ?it/s]"
     ]
    },
    {
     "name": "stdout",
     "output_type": "stream",
     "text": [
      "avg_iou:  0.0054496936989753665\n",
      "avg_loss:  0.8214902281761169\n"
     ]
    },
    {
     "name": "stderr",
     "output_type": "stream",
     "text": [
      "Epoch 34/150: 100%|██████████| 1/1 [00:01<00:00,  1.40s/it, loss=0.784]\n",
      "  0%|          | 0/1 [00:00<?, ?it/s]"
     ]
    },
    {
     "name": "stdout",
     "output_type": "stream",
     "text": [
      "avg_iou:  0.009720836148295504\n",
      "avg_loss:  0.7843120694160461\n"
     ]
    },
    {
     "name": "stderr",
     "output_type": "stream",
     "text": [
      "Epoch 35/150: 100%|██████████| 1/1 [00:01<00:00,  1.39s/it, loss=0.733]\n",
      "  0%|          | 0/1 [00:00<?, ?it/s]"
     ]
    },
    {
     "name": "stdout",
     "output_type": "stream",
     "text": [
      "avg_iou:  0.00012577738802144116\n",
      "avg_loss:  0.732677698135376\n"
     ]
    },
    {
     "name": "stderr",
     "output_type": "stream",
     "text": [
      "Epoch 36/150: 100%|██████████| 1/1 [00:01<00:00,  1.39s/it, loss=0.686]\n",
      "  0%|          | 0/1 [00:00<?, ?it/s]"
     ]
    },
    {
     "name": "stdout",
     "output_type": "stream",
     "text": [
      "avg_iou:  0.00011212177824960938\n",
      "avg_loss:  0.6856141090393066\n"
     ]
    },
    {
     "name": "stderr",
     "output_type": "stream",
     "text": [
      "Epoch 37/150: 100%|██████████| 1/1 [00:01<00:00,  1.42s/it, loss=0.587]\n",
      "  0%|          | 0/1 [00:00<?, ?it/s]"
     ]
    },
    {
     "name": "stdout",
     "output_type": "stream",
     "text": [
      "avg_iou:  0.00027773921677159096\n",
      "avg_loss:  0.5871979594230652\n"
     ]
    },
    {
     "name": "stderr",
     "output_type": "stream",
     "text": [
      "Epoch 38/150: 100%|██████████| 1/1 [00:01<00:00,  1.47s/it, loss=0.627]\n",
      "  0%|          | 0/1 [00:00<?, ?it/s]"
     ]
    },
    {
     "name": "stdout",
     "output_type": "stream",
     "text": [
      "avg_iou:  0.00035524465424646815\n",
      "avg_loss:  0.6265442967414856\n"
     ]
    },
    {
     "name": "stderr",
     "output_type": "stream",
     "text": [
      "Epoch 39/150: 100%|██████████| 1/1 [00:01<00:00,  1.49s/it, loss=0.665]\n",
      "  0%|          | 0/1 [00:00<?, ?it/s]"
     ]
    },
    {
     "name": "stdout",
     "output_type": "stream",
     "text": [
      "avg_iou:  0.002072172849801941\n",
      "avg_loss:  0.6654602289199829\n"
     ]
    },
    {
     "name": "stderr",
     "output_type": "stream",
     "text": [
      "Epoch 40/150: 100%|██████████| 1/1 [00:01<00:00,  1.43s/it, loss=0.544]\n",
      "  0%|          | 0/1 [00:00<?, ?it/s]"
     ]
    },
    {
     "name": "stdout",
     "output_type": "stream",
     "text": [
      "avg_iou:  0.003544781749861475\n",
      "avg_loss:  0.5436164140701294\n"
     ]
    },
    {
     "name": "stderr",
     "output_type": "stream",
     "text": [
      "Epoch 41/150: 100%|██████████| 1/1 [00:01<00:00,  1.39s/it, loss=0.628]\n",
      "  0%|          | 0/1 [00:00<?, ?it/s]"
     ]
    },
    {
     "name": "stdout",
     "output_type": "stream",
     "text": [
      "avg_iou:  0.002397774875556574\n",
      "avg_loss:  0.6280717849731445\n"
     ]
    },
    {
     "name": "stderr",
     "output_type": "stream",
     "text": [
      "Epoch 42/150: 100%|██████████| 1/1 [00:01<00:00,  1.39s/it, loss=0.48]\n",
      "  0%|          | 0/1 [00:00<?, ?it/s]"
     ]
    },
    {
     "name": "stdout",
     "output_type": "stream",
     "text": [
      "avg_iou:  0.00519492899623301\n",
      "avg_loss:  0.479613721370697\n"
     ]
    },
    {
     "name": "stderr",
     "output_type": "stream",
     "text": [
      "Epoch 43/150: 100%|██████████| 1/1 [00:01<00:00,  1.39s/it, loss=0.422]\n",
      "  0%|          | 0/1 [00:00<?, ?it/s]"
     ]
    },
    {
     "name": "stdout",
     "output_type": "stream",
     "text": [
      "avg_iou:  0.0017660910621151151\n",
      "avg_loss:  0.4219125509262085\n"
     ]
    },
    {
     "name": "stderr",
     "output_type": "stream",
     "text": [
      "Epoch 44/150: 100%|██████████| 1/1 [00:01<00:00,  1.39s/it, loss=0.388]\n",
      "  0%|          | 0/1 [00:00<?, ?it/s]"
     ]
    },
    {
     "name": "stdout",
     "output_type": "stream",
     "text": [
      "avg_iou:  0.005062622787975008\n",
      "avg_loss:  0.38848167657852173\n"
     ]
    },
    {
     "name": "stderr",
     "output_type": "stream",
     "text": [
      "Epoch 45/150: 100%|██████████| 1/1 [00:01<00:00,  1.40s/it, loss=0.324]\n",
      "  0%|          | 0/1 [00:00<?, ?it/s]"
     ]
    },
    {
     "name": "stdout",
     "output_type": "stream",
     "text": [
      "avg_iou:  0.009311952311943495\n",
      "avg_loss:  0.32414934039115906\n"
     ]
    },
    {
     "name": "stderr",
     "output_type": "stream",
     "text": [
      "Epoch 46/150: 100%|██████████| 1/1 [00:01<00:00,  1.39s/it, loss=0.265]\n",
      "  0%|          | 0/1 [00:00<?, ?it/s]"
     ]
    },
    {
     "name": "stdout",
     "output_type": "stream",
     "text": [
      "avg_iou:  0.011646871987662058\n",
      "avg_loss:  0.2653217315673828\n"
     ]
    },
    {
     "name": "stderr",
     "output_type": "stream",
     "text": [
      "Epoch 47/150: 100%|██████████| 1/1 [00:01<00:00,  1.40s/it, loss=0.224]\n",
      "  0%|          | 0/1 [00:00<?, ?it/s]"
     ]
    },
    {
     "name": "stdout",
     "output_type": "stream",
     "text": [
      "avg_iou:  0.012896815909205918\n",
      "avg_loss:  0.22435806691646576\n"
     ]
    },
    {
     "name": "stderr",
     "output_type": "stream",
     "text": [
      "Epoch 48/150: 100%|██████████| 1/1 [00:01<00:00,  1.39s/it, loss=0.255]\n",
      "  0%|          | 0/1 [00:00<?, ?it/s]"
     ]
    },
    {
     "name": "stdout",
     "output_type": "stream",
     "text": [
      "avg_iou:  0.013112772191467927\n",
      "avg_loss:  0.25475963950157166\n"
     ]
    },
    {
     "name": "stderr",
     "output_type": "stream",
     "text": [
      "Epoch 49/150: 100%|██████████| 1/1 [00:01<00:00,  1.48s/it, loss=0.229]\n",
      "  0%|          | 0/1 [00:00<?, ?it/s]"
     ]
    },
    {
     "name": "stdout",
     "output_type": "stream",
     "text": [
      "avg_iou:  0.012904870837683208\n",
      "avg_loss:  0.22856071591377258\n"
     ]
    },
    {
     "name": "stderr",
     "output_type": "stream",
     "text": [
      "Epoch 50/150: 100%|██████████| 1/1 [00:01<00:00,  1.47s/it, loss=0.186]\n",
      "  0%|          | 0/1 [00:00<?, ?it/s]"
     ]
    },
    {
     "name": "stdout",
     "output_type": "stream",
     "text": [
      "avg_iou:  0.012757858704271664\n",
      "avg_loss:  0.18604394793510437\n"
     ]
    },
    {
     "name": "stderr",
     "output_type": "stream",
     "text": [
      "Epoch 51/150: 100%|██████████| 1/1 [00:01<00:00,  1.46s/it, loss=0.208]\n",
      "  0%|          | 0/1 [00:00<?, ?it/s]"
     ]
    },
    {
     "name": "stdout",
     "output_type": "stream",
     "text": [
      "avg_iou:  0.012466811732153261\n",
      "avg_loss:  0.20796336233615875\n"
     ]
    },
    {
     "name": "stderr",
     "output_type": "stream",
     "text": [
      "Epoch 52/150: 100%|██████████| 1/1 [00:01<00:00,  1.38s/it, loss=0.162]\n",
      "  0%|          | 0/1 [00:00<?, ?it/s]"
     ]
    },
    {
     "name": "stdout",
     "output_type": "stream",
     "text": [
      "avg_iou:  0.010096112457415086\n",
      "avg_loss:  0.16238045692443848\n"
     ]
    },
    {
     "name": "stderr",
     "output_type": "stream",
     "text": [
      "Epoch 53/150: 100%|██████████| 1/1 [00:01<00:00,  1.39s/it, loss=0.164]\n",
      "  0%|          | 0/1 [00:00<?, ?it/s]"
     ]
    },
    {
     "name": "stdout",
     "output_type": "stream",
     "text": [
      "avg_iou:  0.008424733753475118\n",
      "avg_loss:  0.16382499039173126\n"
     ]
    },
    {
     "name": "stderr",
     "output_type": "stream",
     "text": [
      "Epoch 54/150: 100%|██████████| 1/1 [00:01<00:00,  1.43s/it, loss=0.141]\n",
      "  0%|          | 0/1 [00:00<?, ?it/s]"
     ]
    },
    {
     "name": "stdout",
     "output_type": "stream",
     "text": [
      "avg_iou:  0.005766680131809328\n",
      "avg_loss:  0.14147010445594788\n"
     ]
    },
    {
     "name": "stderr",
     "output_type": "stream",
     "text": [
      "Epoch 55/150: 100%|██████████| 1/1 [00:01<00:00,  1.46s/it, loss=0.121]\n",
      "  0%|          | 0/1 [00:00<?, ?it/s]"
     ]
    },
    {
     "name": "stdout",
     "output_type": "stream",
     "text": [
      "avg_iou:  0.005173528787965659\n",
      "avg_loss:  0.12089617550373077\n"
     ]
    },
    {
     "name": "stderr",
     "output_type": "stream",
     "text": [
      "Epoch 56/150: 100%|██████████| 1/1 [00:01<00:00,  1.46s/it, loss=0.131]\n",
      "  0%|          | 0/1 [00:00<?, ?it/s]"
     ]
    },
    {
     "name": "stdout",
     "output_type": "stream",
     "text": [
      "avg_iou:  0.0038872692038006704\n",
      "avg_loss:  0.13081318140029907\n"
     ]
    },
    {
     "name": "stderr",
     "output_type": "stream",
     "text": [
      "Epoch 57/150: 100%|██████████| 1/1 [00:01<00:00,  1.44s/it, loss=0.112]\n",
      "  0%|          | 0/1 [00:00<?, ?it/s]"
     ]
    },
    {
     "name": "stdout",
     "output_type": "stream",
     "text": [
      "avg_iou:  0.003479343695031137\n",
      "avg_loss:  0.11203387379646301\n"
     ]
    },
    {
     "name": "stderr",
     "output_type": "stream",
     "text": [
      "Epoch 58/150: 100%|██████████| 1/1 [00:01<00:00,  1.38s/it, loss=0.11]\n",
      "  0%|          | 0/1 [00:00<?, ?it/s]"
     ]
    },
    {
     "name": "stdout",
     "output_type": "stream",
     "text": [
      "avg_iou:  0.009246049387552557\n",
      "avg_loss:  0.11039362847805023\n"
     ]
    },
    {
     "name": "stderr",
     "output_type": "stream",
     "text": [
      "Epoch 59/150: 100%|██████████| 1/1 [00:01<00:00,  1.39s/it, loss=0.115]\n",
      "  0%|          | 0/1 [00:00<?, ?it/s]"
     ]
    },
    {
     "name": "stdout",
     "output_type": "stream",
     "text": [
      "avg_iou:  0.023310383162313514\n",
      "avg_loss:  0.11531282961368561\n"
     ]
    },
    {
     "name": "stderr",
     "output_type": "stream",
     "text": [
      "Epoch 60/150: 100%|██████████| 1/1 [00:01<00:00,  1.49s/it, loss=0.0987]\n",
      "  0%|          | 0/1 [00:00<?, ?it/s]"
     ]
    },
    {
     "name": "stdout",
     "output_type": "stream",
     "text": [
      "new max_iou 0.04636602768227186\n",
      "avg_iou:  0.04636602768227186\n",
      "avg_loss:  0.0987389087677002\n"
     ]
    },
    {
     "name": "stderr",
     "output_type": "stream",
     "text": [
      "Epoch 61/150: 100%|██████████| 1/1 [00:01<00:00,  1.52s/it, loss=0.116]\n",
      "  0%|          | 0/1 [00:00<?, ?it/s]"
     ]
    },
    {
     "name": "stdout",
     "output_type": "stream",
     "text": [
      "new max_iou 0.06706292803491354\n",
      "avg_iou:  0.06706292803491354\n",
      "avg_loss:  0.11572308838367462\n"
     ]
    },
    {
     "name": "stderr",
     "output_type": "stream",
     "text": [
      "Epoch 62/150: 100%|██████████| 1/1 [00:01<00:00,  1.50s/it, loss=0.0894]\n",
      "  0%|          | 0/1 [00:00<?, ?it/s]"
     ]
    },
    {
     "name": "stdout",
     "output_type": "stream",
     "text": [
      "new max_iou 0.10426965090199623\n",
      "avg_iou:  0.10426965090199623\n",
      "avg_loss:  0.08944331109523773\n"
     ]
    },
    {
     "name": "stderr",
     "output_type": "stream",
     "text": [
      "Epoch 63/150: 100%|██████████| 1/1 [00:01<00:00,  1.42s/it, loss=0.0888]\n",
      "  0%|          | 0/1 [00:00<?, ?it/s]"
     ]
    },
    {
     "name": "stdout",
     "output_type": "stream",
     "text": [
      "new max_iou 0.11574987720026995\n",
      "avg_iou:  0.11574987720026995\n",
      "avg_loss:  0.08883453905582428\n"
     ]
    },
    {
     "name": "stderr",
     "output_type": "stream",
     "text": [
      "Epoch 64/150: 100%|██████████| 1/1 [00:01<00:00,  1.42s/it, loss=0.0924]\n",
      "  0%|          | 0/1 [00:00<?, ?it/s]"
     ]
    },
    {
     "name": "stdout",
     "output_type": "stream",
     "text": [
      "new max_iou 0.14440404231609177\n",
      "avg_iou:  0.14440404231609177\n",
      "avg_loss:  0.09241918474435806\n"
     ]
    },
    {
     "name": "stderr",
     "output_type": "stream",
     "text": [
      "Epoch 65/150: 100%|██████████| 1/1 [00:01<00:00,  1.46s/it, loss=0.0893]\n",
      "  0%|          | 0/1 [00:00<?, ?it/s]"
     ]
    },
    {
     "name": "stdout",
     "output_type": "stream",
     "text": [
      "new max_iou 0.25328871642012296\n",
      "avg_iou:  0.25328871642012296\n",
      "avg_loss:  0.08928317576646805\n"
     ]
    },
    {
     "name": "stderr",
     "output_type": "stream",
     "text": [
      "Epoch 66/150: 100%|██████████| 1/1 [00:01<00:00,  1.52s/it, loss=0.0866]\n",
      "  0%|          | 0/1 [00:00<?, ?it/s]"
     ]
    },
    {
     "name": "stdout",
     "output_type": "stream",
     "text": [
      "new max_iou 0.33535198849905623\n",
      "avg_iou:  0.33535198849905623\n",
      "avg_loss:  0.08664590865373611\n"
     ]
    },
    {
     "name": "stderr",
     "output_type": "stream",
     "text": [
      "Epoch 67/150: 100%|██████████| 1/1 [00:01<00:00,  1.52s/it, loss=0.1]\n",
      "  0%|          | 0/1 [00:00<?, ?it/s]"
     ]
    },
    {
     "name": "stdout",
     "output_type": "stream",
     "text": [
      "new max_iou 0.34763690001416464\n",
      "avg_iou:  0.34763690001416464\n",
      "avg_loss:  0.10016342252492905\n"
     ]
    },
    {
     "name": "stderr",
     "output_type": "stream",
     "text": [
      "Epoch 68/150: 100%|██████████| 1/1 [00:01<00:00,  1.48s/it, loss=0.0767]\n",
      "  0%|          | 0/1 [00:00<?, ?it/s]"
     ]
    },
    {
     "name": "stdout",
     "output_type": "stream",
     "text": [
      "new max_iou 0.36069428467490877\n",
      "avg_iou:  0.36069428467490877\n",
      "avg_loss:  0.07670550048351288\n"
     ]
    },
    {
     "name": "stderr",
     "output_type": "stream",
     "text": [
      "Epoch 69/150: 100%|██████████| 1/1 [00:01<00:00,  1.44s/it, loss=0.0826]\n",
      "  0%|          | 0/1 [00:00<?, ?it/s]"
     ]
    },
    {
     "name": "stdout",
     "output_type": "stream",
     "text": [
      "new max_iou 0.3952922284888322\n",
      "avg_iou:  0.3952922284888322\n",
      "avg_loss:  0.08260402828454971\n"
     ]
    },
    {
     "name": "stderr",
     "output_type": "stream",
     "text": [
      "Epoch 70/150: 100%|██████████| 1/1 [00:01<00:00,  1.47s/it, loss=0.0695]\n",
      "  0%|          | 0/1 [00:00<?, ?it/s]"
     ]
    },
    {
     "name": "stdout",
     "output_type": "stream",
     "text": [
      "new max_iou 0.44366366900336557\n",
      "avg_iou:  0.44366366900336557\n",
      "avg_loss:  0.06946295499801636\n"
     ]
    },
    {
     "name": "stderr",
     "output_type": "stream",
     "text": [
      "Epoch 71/150: 100%|██████████| 1/1 [00:01<00:00,  1.52s/it, loss=0.0685]\n",
      "  0%|          | 0/1 [00:00<?, ?it/s]"
     ]
    },
    {
     "name": "stdout",
     "output_type": "stream",
     "text": [
      "new max_iou 0.5060550646490869\n",
      "avg_iou:  0.5060550646490869\n",
      "avg_loss:  0.06846952438354492\n"
     ]
    },
    {
     "name": "stderr",
     "output_type": "stream",
     "text": [
      "Epoch 72/150: 100%|██████████| 1/1 [00:01<00:00,  1.52s/it, loss=0.0668]\n",
      "  0%|          | 0/1 [00:00<?, ?it/s]"
     ]
    },
    {
     "name": "stdout",
     "output_type": "stream",
     "text": [
      "new max_iou 0.5813779781122811\n",
      "avg_iou:  0.5813779781122811\n",
      "avg_loss:  0.06680155545473099\n"
     ]
    },
    {
     "name": "stderr",
     "output_type": "stream",
     "text": [
      "Epoch 73/150: 100%|██████████| 1/1 [00:01<00:00,  1.49s/it, loss=0.0768]\n",
      "  0%|          | 0/1 [00:00<?, ?it/s]"
     ]
    },
    {
     "name": "stdout",
     "output_type": "stream",
     "text": [
      "new max_iou 0.6848942636971813\n",
      "avg_iou:  0.6848942636971813\n",
      "avg_loss:  0.07675492018461227\n"
     ]
    },
    {
     "name": "stderr",
     "output_type": "stream",
     "text": [
      "Epoch 74/150: 100%|██████████| 1/1 [00:01<00:00,  1.45s/it, loss=0.0789]\n",
      "  0%|          | 0/1 [00:00<?, ?it/s]"
     ]
    },
    {
     "name": "stdout",
     "output_type": "stream",
     "text": [
      "new max_iou 0.7286183379675598\n",
      "avg_iou:  0.7286183379675598\n",
      "avg_loss:  0.07885769009590149\n"
     ]
    },
    {
     "name": "stderr",
     "output_type": "stream",
     "text": [
      "Epoch 75/150: 100%|██████████| 1/1 [00:01<00:00,  1.45s/it, loss=0.0881]\n",
      "  0%|          | 0/1 [00:00<?, ?it/s]"
     ]
    },
    {
     "name": "stdout",
     "output_type": "stream",
     "text": [
      "new max_iou 0.7437571157527673\n",
      "avg_iou:  0.7437571157527673\n",
      "avg_loss:  0.08814498037099838\n"
     ]
    },
    {
     "name": "stderr",
     "output_type": "stream",
     "text": [
      "Epoch 76/150: 100%|██████████| 1/1 [00:01<00:00,  1.44s/it, loss=0.0646]\n",
      "  0%|          | 0/1 [00:00<?, ?it/s]"
     ]
    },
    {
     "name": "stdout",
     "output_type": "stream",
     "text": [
      "new max_iou 0.7569396546146336\n",
      "avg_iou:  0.7569396546146336\n",
      "avg_loss:  0.0646052360534668\n"
     ]
    },
    {
     "name": "stderr",
     "output_type": "stream",
     "text": [
      "Epoch 77/150: 100%|██████████| 1/1 [00:01<00:00,  1.45s/it, loss=0.0732]\n",
      "  0%|          | 0/1 [00:00<?, ?it/s]"
     ]
    },
    {
     "name": "stdout",
     "output_type": "stream",
     "text": [
      "new max_iou 0.7867162820610013\n",
      "avg_iou:  0.7867162820610013\n",
      "avg_loss:  0.07315650582313538\n"
     ]
    },
    {
     "name": "stderr",
     "output_type": "stream",
     "text": [
      "Epoch 78/150: 100%|██████████| 1/1 [00:01<00:00,  1.44s/it, loss=0.0729]\n",
      "  0%|          | 0/1 [00:00<?, ?it/s]"
     ]
    },
    {
     "name": "stdout",
     "output_type": "stream",
     "text": [
      "new max_iou 0.7917192696695621\n",
      "avg_iou:  0.7917192696695621\n",
      "avg_loss:  0.0729181095957756\n"
     ]
    },
    {
     "name": "stderr",
     "output_type": "stream",
     "text": [
      "Epoch 79/150: 100%|██████████| 1/1 [00:01<00:00,  1.47s/it, loss=0.076]\n",
      "  0%|          | 0/1 [00:00<?, ?it/s]"
     ]
    },
    {
     "name": "stdout",
     "output_type": "stream",
     "text": [
      "avg_iou:  0.7865566362688873\n",
      "avg_loss:  0.07604268193244934\n"
     ]
    },
    {
     "name": "stderr",
     "output_type": "stream",
     "text": [
      "Epoch 80/150: 100%|██████████| 1/1 [00:01<00:00,  1.52s/it, loss=0.0777]\n",
      "  0%|          | 0/1 [00:00<?, ?it/s]"
     ]
    },
    {
     "name": "stdout",
     "output_type": "stream",
     "text": [
      "new max_iou 0.7943397528847335\n",
      "avg_iou:  0.7943397528847335\n",
      "avg_loss:  0.07768084853887558\n"
     ]
    },
    {
     "name": "stderr",
     "output_type": "stream",
     "text": [
      "Epoch 81/150: 100%|██████████| 1/1 [00:01<00:00,  1.52s/it, loss=0.06]\n",
      "  0%|          | 0/1 [00:00<?, ?it/s]"
     ]
    },
    {
     "name": "stdout",
     "output_type": "stream",
     "text": [
      "new max_iou 0.8000330228297807\n",
      "avg_iou:  0.8000330228297807\n",
      "avg_loss:  0.06001914665102959\n"
     ]
    },
    {
     "name": "stderr",
     "output_type": "stream",
     "text": [
      "Epoch 82/150: 100%|██████████| 1/1 [00:01<00:00,  1.44s/it, loss=0.0655]\n",
      "  0%|          | 0/1 [00:00<?, ?it/s]"
     ]
    },
    {
     "name": "stdout",
     "output_type": "stream",
     "text": [
      "new max_iou 0.8046938077344552\n",
      "avg_iou:  0.8046938077344552\n",
      "avg_loss:  0.06552045047283173\n"
     ]
    },
    {
     "name": "stderr",
     "output_type": "stream",
     "text": [
      "Epoch 83/150: 100%|██████████| 1/1 [00:01<00:00,  1.46s/it, loss=0.0667]\n",
      "  0%|          | 0/1 [00:00<?, ?it/s]"
     ]
    },
    {
     "name": "stdout",
     "output_type": "stream",
     "text": [
      "new max_iou 0.8316471617653992\n",
      "avg_iou:  0.8316471617653992\n",
      "avg_loss:  0.06673531234264374\n"
     ]
    },
    {
     "name": "stderr",
     "output_type": "stream",
     "text": [
      "Epoch 84/150: 100%|██████████| 1/1 [00:01<00:00,  1.44s/it, loss=0.0588]\n",
      "  0%|          | 0/1 [00:00<?, ?it/s]"
     ]
    },
    {
     "name": "stdout",
     "output_type": "stream",
     "text": [
      "new max_iou 0.8523248468889577\n",
      "avg_iou:  0.8523248468889577\n",
      "avg_loss:  0.058787863701581955\n"
     ]
    },
    {
     "name": "stderr",
     "output_type": "stream",
     "text": [
      "Epoch 85/150: 100%|██████████| 1/1 [00:01<00:00,  1.45s/it, loss=0.0554]\n",
      "  0%|          | 0/1 [00:00<?, ?it/s]"
     ]
    },
    {
     "name": "stdout",
     "output_type": "stream",
     "text": [
      "new max_iou 0.8655659406285179\n",
      "avg_iou:  0.8655659406285179\n",
      "avg_loss:  0.05537578463554382\n"
     ]
    },
    {
     "name": "stderr",
     "output_type": "stream",
     "text": [
      "Epoch 86/150: 100%|██████████| 1/1 [00:01<00:00,  1.44s/it, loss=0.0703]\n",
      "  0%|          | 0/1 [00:00<?, ?it/s]"
     ]
    },
    {
     "name": "stdout",
     "output_type": "stream",
     "text": [
      "new max_iou 0.8825191928815475\n",
      "avg_iou:  0.8825191928815475\n",
      "avg_loss:  0.07030787318944931\n"
     ]
    },
    {
     "name": "stderr",
     "output_type": "stream",
     "text": [
      "Epoch 87/150: 100%|██████████| 1/1 [00:01<00:00,  1.44s/it, loss=0.0589]\n",
      "  0%|          | 0/1 [00:00<?, ?it/s]"
     ]
    },
    {
     "name": "stdout",
     "output_type": "stream",
     "text": [
      "new max_iou 0.8905243294259263\n",
      "avg_iou:  0.8905243294259263\n",
      "avg_loss:  0.058861300349235535\n"
     ]
    },
    {
     "name": "stderr",
     "output_type": "stream",
     "text": [
      "Epoch 88/150: 100%|██████████| 1/1 [00:01<00:00,  1.44s/it, loss=0.0566]\n",
      "  0%|          | 0/1 [00:00<?, ?it/s]"
     ]
    },
    {
     "name": "stdout",
     "output_type": "stream",
     "text": [
      "new max_iou 0.8913976763544581\n",
      "avg_iou:  0.8913976763544581\n",
      "avg_loss:  0.0565936304628849\n"
     ]
    },
    {
     "name": "stderr",
     "output_type": "stream",
     "text": [
      "Epoch 89/150: 100%|██████████| 1/1 [00:01<00:00,  1.40s/it, loss=0.0751]\n",
      "  0%|          | 0/1 [00:00<?, ?it/s]"
     ]
    },
    {
     "name": "stdout",
     "output_type": "stream",
     "text": [
      "avg_iou:  0.890163317934214\n",
      "avg_loss:  0.07514733821153641\n"
     ]
    },
    {
     "name": "stderr",
     "output_type": "stream",
     "text": [
      "Epoch 90/150: 100%|██████████| 1/1 [00:01<00:00,  1.47s/it, loss=0.0532]\n",
      "  0%|          | 0/1 [00:00<?, ?it/s]"
     ]
    },
    {
     "name": "stdout",
     "output_type": "stream",
     "text": [
      "avg_iou:  0.8903240578631801\n",
      "avg_loss:  0.05317941680550575\n"
     ]
    },
    {
     "name": "stderr",
     "output_type": "stream",
     "text": [
      "Epoch 91/150: 100%|██████████| 1/1 [00:01<00:00,  1.54s/it, loss=0.0565]\n",
      "  0%|          | 0/1 [00:00<?, ?it/s]"
     ]
    },
    {
     "name": "stdout",
     "output_type": "stream",
     "text": [
      "new max_iou 0.8953283683155676\n",
      "avg_iou:  0.8953283683155676\n",
      "avg_loss:  0.05650921165943146\n"
     ]
    },
    {
     "name": "stderr",
     "output_type": "stream",
     "text": [
      "Epoch 92/150: 100%|██████████| 1/1 [00:01<00:00,  1.51s/it, loss=0.0574]\n",
      "  0%|          | 0/1 [00:00<?, ?it/s]"
     ]
    },
    {
     "name": "stdout",
     "output_type": "stream",
     "text": [
      "new max_iou 0.904412968725719\n",
      "avg_iou:  0.904412968725719\n",
      "avg_loss:  0.05737646669149399\n"
     ]
    },
    {
     "name": "stderr",
     "output_type": "stream",
     "text": [
      "Epoch 93/150: 100%|██████████| 1/1 [00:01<00:00,  1.44s/it, loss=0.0591]\n",
      "  0%|          | 0/1 [00:00<?, ?it/s]"
     ]
    },
    {
     "name": "stdout",
     "output_type": "stream",
     "text": [
      "new max_iou 0.9069250187636362\n",
      "avg_iou:  0.9069250187636362\n",
      "avg_loss:  0.05909523367881775\n"
     ]
    },
    {
     "name": "stderr",
     "output_type": "stream",
     "text": [
      "Epoch 94/150: 100%|██████████| 1/1 [00:01<00:00,  1.40s/it, loss=0.0542]\n",
      "  0%|          | 0/1 [00:00<?, ?it/s]"
     ]
    },
    {
     "name": "stdout",
     "output_type": "stream",
     "text": [
      "avg_iou:  0.9055560850103395\n",
      "avg_loss:  0.05421468988060951\n"
     ]
    },
    {
     "name": "stderr",
     "output_type": "stream",
     "text": [
      "Epoch 95/150: 100%|██████████| 1/1 [00:01<00:00,  1.45s/it, loss=0.0492]\n",
      "  0%|          | 0/1 [00:00<?, ?it/s]"
     ]
    },
    {
     "name": "stdout",
     "output_type": "stream",
     "text": [
      "new max_iou 0.9069344811107887\n",
      "avg_iou:  0.9069344811107887\n",
      "avg_loss:  0.04924953728914261\n"
     ]
    },
    {
     "name": "stderr",
     "output_type": "stream",
     "text": [
      "Epoch 96/150: 100%|██████████| 1/1 [00:01<00:00,  1.46s/it, loss=0.0578]\n",
      "  0%|          | 0/1 [00:00<?, ?it/s]"
     ]
    },
    {
     "name": "stdout",
     "output_type": "stream",
     "text": [
      "new max_iou 0.9108563406657098\n",
      "avg_iou:  0.9108563406657098\n",
      "avg_loss:  0.05783933028578758\n"
     ]
    },
    {
     "name": "stderr",
     "output_type": "stream",
     "text": [
      "Epoch 97/150: 100%|██████████| 1/1 [00:01<00:00,  1.45s/it, loss=0.0555]\n",
      "  0%|          | 0/1 [00:00<?, ?it/s]"
     ]
    },
    {
     "name": "stdout",
     "output_type": "stream",
     "text": [
      "new max_iou 0.9142140560925311\n",
      "avg_iou:  0.9142140560925311\n",
      "avg_loss:  0.05547593906521797\n"
     ]
    },
    {
     "name": "stderr",
     "output_type": "stream",
     "text": [
      "Epoch 98/150: 100%|██████████| 1/1 [00:01<00:00,  1.45s/it, loss=0.0605]\n",
      "  0%|          | 0/1 [00:00<?, ?it/s]"
     ]
    },
    {
     "name": "stdout",
     "output_type": "stream",
     "text": [
      "new max_iou 0.914697398348107\n",
      "avg_iou:  0.914697398348107\n",
      "avg_loss:  0.06053212657570839\n"
     ]
    },
    {
     "name": "stderr",
     "output_type": "stream",
     "text": [
      "Epoch 99/150: 100%|██████████| 1/1 [00:01<00:00,  1.44s/it, loss=0.0502]\n",
      "  0%|          | 0/1 [00:00<?, ?it/s]"
     ]
    },
    {
     "name": "stdout",
     "output_type": "stream",
     "text": [
      "new max_iou 0.9152222746066832\n",
      "avg_iou:  0.9152222746066832\n",
      "avg_loss:  0.050224464386701584\n"
     ]
    },
    {
     "name": "stderr",
     "output_type": "stream",
     "text": [
      "Epoch 100/150: 100%|██████████| 1/1 [00:01<00:00,  1.44s/it, loss=0.0494]\n",
      "  0%|          | 0/1 [00:00<?, ?it/s]"
     ]
    },
    {
     "name": "stdout",
     "output_type": "stream",
     "text": [
      "new max_iou 0.9157856816272597\n",
      "avg_iou:  0.9157856816272597\n",
      "avg_loss:  0.04936891794204712\n"
     ]
    },
    {
     "name": "stderr",
     "output_type": "stream",
     "text": [
      "Epoch 101/150: 100%|██████████| 1/1 [00:01<00:00,  1.51s/it, loss=0.0533]\n",
      "  0%|          | 0/1 [00:00<?, ?it/s]"
     ]
    },
    {
     "name": "stdout",
     "output_type": "stream",
     "text": [
      "new max_iou 0.9178364758989142\n",
      "avg_iou:  0.9178364758989142\n",
      "avg_loss:  0.05325853079557419\n"
     ]
    },
    {
     "name": "stderr",
     "output_type": "stream",
     "text": [
      "Epoch 102/150: 100%|██████████| 1/1 [00:01<00:00,  1.52s/it, loss=0.0475]\n",
      "  0%|          | 0/1 [00:00<?, ?it/s]"
     ]
    },
    {
     "name": "stdout",
     "output_type": "stream",
     "text": [
      "new max_iou 0.917903954257173\n",
      "avg_iou:  0.917903954257173\n",
      "avg_loss:  0.04752952232956886\n"
     ]
    },
    {
     "name": "stderr",
     "output_type": "stream",
     "text": [
      "Epoch 103/150: 100%|██████████| 1/1 [00:01<00:00,  1.51s/it, loss=0.061]\n",
      "  0%|          | 0/1 [00:00<?, ?it/s]"
     ]
    },
    {
     "name": "stdout",
     "output_type": "stream",
     "text": [
      "new max_iou 0.9184627476948322\n",
      "avg_iou:  0.9184627476948322\n",
      "avg_loss:  0.06101991608738899\n"
     ]
    },
    {
     "name": "stderr",
     "output_type": "stream",
     "text": [
      "Epoch 104/150: 100%|██████████| 1/1 [00:01<00:00,  1.45s/it, loss=0.0573]\n",
      "  0%|          | 0/1 [00:00<?, ?it/s]"
     ]
    },
    {
     "name": "stdout",
     "output_type": "stream",
     "text": [
      "new max_iou 0.9205619729789183\n",
      "avg_iou:  0.9205619729789183\n",
      "avg_loss:  0.05726694315671921\n"
     ]
    },
    {
     "name": "stderr",
     "output_type": "stream",
     "text": [
      "Epoch 105/150: 100%|██████████| 1/1 [00:01<00:00,  1.44s/it, loss=0.0507]\n",
      "  0%|          | 0/1 [00:00<?, ?it/s]"
     ]
    },
    {
     "name": "stdout",
     "output_type": "stream",
     "text": [
      "new max_iou 0.9224207062477889\n",
      "avg_iou:  0.9224207062477889\n",
      "avg_loss:  0.050681933760643005\n"
     ]
    },
    {
     "name": "stderr",
     "output_type": "stream",
     "text": [
      "Epoch 106/150: 100%|██████████| 1/1 [00:01<00:00,  1.44s/it, loss=0.0488]\n",
      "  0%|          | 0/1 [00:00<?, ?it/s]"
     ]
    },
    {
     "name": "stdout",
     "output_type": "stream",
     "text": [
      "new max_iou 0.9237452539987842\n",
      "avg_iou:  0.9237452539987842\n",
      "avg_loss:  0.04876967519521713\n"
     ]
    },
    {
     "name": "stderr",
     "output_type": "stream",
     "text": [
      "Epoch 107/150: 100%|██████████| 1/1 [00:01<00:00,  1.44s/it, loss=0.0545]\n",
      "  0%|          | 0/1 [00:00<?, ?it/s]"
     ]
    },
    {
     "name": "stdout",
     "output_type": "stream",
     "text": [
      "new max_iou 0.9245259446413764\n",
      "avg_iou:  0.9245259446413764\n",
      "avg_loss:  0.05449667572975159\n"
     ]
    },
    {
     "name": "stderr",
     "output_type": "stream",
     "text": [
      "Epoch 108/150: 100%|██████████| 1/1 [00:01<00:00,  1.44s/it, loss=0.0742]\n",
      "  0%|          | 0/1 [00:00<?, ?it/s]"
     ]
    },
    {
     "name": "stdout",
     "output_type": "stream",
     "text": [
      "new max_iou 0.9248150564209799\n",
      "avg_iou:  0.9248150564209799\n",
      "avg_loss:  0.074231818318367\n"
     ]
    },
    {
     "name": "stderr",
     "output_type": "stream",
     "text": [
      "Epoch 109/150: 100%|██████████| 1/1 [00:01<00:00,  1.48s/it, loss=0.0454]\n",
      "  0%|          | 0/1 [00:00<?, ?it/s]"
     ]
    },
    {
     "name": "stdout",
     "output_type": "stream",
     "text": [
      "new max_iou 0.9248738424010858\n",
      "avg_iou:  0.9248738424010858\n",
      "avg_loss:  0.045415785163640976\n"
     ]
    },
    {
     "name": "stderr",
     "output_type": "stream",
     "text": [
      "Epoch 110/150: 100%|██████████| 1/1 [00:01<00:00,  1.52s/it, loss=0.0501]\n",
      "  0%|          | 0/1 [00:00<?, ?it/s]"
     ]
    },
    {
     "name": "stdout",
     "output_type": "stream",
     "text": [
      "new max_iou 0.9264150419384767\n",
      "avg_iou:  0.9264150419384767\n",
      "avg_loss:  0.05010098218917847\n"
     ]
    },
    {
     "name": "stderr",
     "output_type": "stream",
     "text": [
      "Epoch 111/150: 100%|██████████| 1/1 [00:01<00:00,  1.52s/it, loss=0.0724]\n",
      "  0%|          | 0/1 [00:00<?, ?it/s]"
     ]
    },
    {
     "name": "stdout",
     "output_type": "stream",
     "text": [
      "new max_iou 0.9281032107228911\n",
      "avg_iou:  0.9281032107228911\n",
      "avg_loss:  0.07236076146364212\n"
     ]
    },
    {
     "name": "stderr",
     "output_type": "stream",
     "text": [
      "Epoch 112/150: 100%|██████████| 1/1 [00:01<00:00,  1.45s/it, loss=0.0473]\n",
      "  0%|          | 0/1 [00:00<?, ?it/s]"
     ]
    },
    {
     "name": "stdout",
     "output_type": "stream",
     "text": [
      "new max_iou 0.9282526844243725\n",
      "avg_iou:  0.9282526844243725\n",
      "avg_loss:  0.04733581840991974\n"
     ]
    },
    {
     "name": "stderr",
     "output_type": "stream",
     "text": [
      "Epoch 113/150: 100%|██████████| 1/1 [00:01<00:00,  1.40s/it, loss=0.0452]\n",
      "  0%|          | 0/1 [00:00<?, ?it/s]"
     ]
    },
    {
     "name": "stdout",
     "output_type": "stream",
     "text": [
      "avg_iou:  0.9282400938924685\n",
      "avg_loss:  0.045213256031274796\n"
     ]
    },
    {
     "name": "stderr",
     "output_type": "stream",
     "text": [
      "Epoch 114/150: 100%|██████████| 1/1 [00:01<00:00,  1.42s/it, loss=0.0444]\n",
      "  0%|          | 0/1 [00:00<?, ?it/s]"
     ]
    },
    {
     "name": "stdout",
     "output_type": "stream",
     "text": [
      "avg_iou:  0.9281035689303274\n",
      "avg_loss:  0.04437454044818878\n"
     ]
    },
    {
     "name": "stderr",
     "output_type": "stream",
     "text": [
      "Epoch 115/150: 100%|██████████| 1/1 [00:01<00:00,  1.49s/it, loss=0.0567]\n",
      "  0%|          | 0/1 [00:00<?, ?it/s]"
     ]
    },
    {
     "name": "stdout",
     "output_type": "stream",
     "text": [
      "avg_iou:  0.9280920287529867\n",
      "avg_loss:  0.056731581687927246\n"
     ]
    },
    {
     "name": "stderr",
     "output_type": "stream",
     "text": [
      "Epoch 116/150: 100%|██████████| 1/1 [00:01<00:00,  1.49s/it, loss=0.0496]\n",
      "  0%|          | 0/1 [00:00<?, ?it/s]"
     ]
    },
    {
     "name": "stdout",
     "output_type": "stream",
     "text": [
      "avg_iou:  0.9277962627591599\n",
      "avg_loss:  0.049577780067920685\n"
     ]
    },
    {
     "name": "stderr",
     "output_type": "stream",
     "text": [
      "Epoch 117/150: 100%|██████████| 1/1 [00:01<00:00,  1.45s/it, loss=0.0449]\n",
      "  0%|          | 0/1 [00:00<?, ?it/s]"
     ]
    },
    {
     "name": "stdout",
     "output_type": "stream",
     "text": [
      "avg_iou:  0.9272356866887638\n",
      "avg_loss:  0.04492529109120369\n"
     ]
    },
    {
     "name": "stderr",
     "output_type": "stream",
     "text": [
      "Epoch 118/150: 100%|██████████| 1/1 [00:01<00:00,  1.41s/it, loss=0.047]\n",
      "  0%|          | 0/1 [00:00<?, ?it/s]"
     ]
    },
    {
     "name": "stdout",
     "output_type": "stream",
     "text": [
      "avg_iou:  0.9261768550675937\n",
      "avg_loss:  0.046969935297966\n"
     ]
    },
    {
     "name": "stderr",
     "output_type": "stream",
     "text": [
      "Epoch 119/150: 100%|██████████| 1/1 [00:01<00:00,  1.41s/it, loss=0.0452]\n",
      "  0%|          | 0/1 [00:00<?, ?it/s]"
     ]
    },
    {
     "name": "stdout",
     "output_type": "stream",
     "text": [
      "avg_iou:  0.926494141449233\n",
      "avg_loss:  0.04522246867418289\n"
     ]
    },
    {
     "name": "stderr",
     "output_type": "stream",
     "text": [
      "Epoch 120/150: 100%|██████████| 1/1 [00:01<00:00,  1.45s/it, loss=0.0483]\n",
      "  0%|          | 0/1 [00:00<?, ?it/s]"
     ]
    },
    {
     "name": "stdout",
     "output_type": "stream",
     "text": [
      "avg_iou:  0.9268819921123106\n",
      "avg_loss:  0.048251088708639145\n"
     ]
    },
    {
     "name": "stderr",
     "output_type": "stream",
     "text": [
      "Epoch 121/150: 100%|██████████| 1/1 [00:01<00:00,  1.47s/it, loss=0.0524]\n",
      "  0%|          | 0/1 [00:00<?, ?it/s]"
     ]
    },
    {
     "name": "stdout",
     "output_type": "stream",
     "text": [
      "avg_iou:  0.9277167585472132\n",
      "avg_loss:  0.05236396566033363\n"
     ]
    },
    {
     "name": "stderr",
     "output_type": "stream",
     "text": [
      "Epoch 122/150: 100%|██████████| 1/1 [00:01<00:00,  1.51s/it, loss=0.0467]\n",
      "  0%|          | 0/1 [00:00<?, ?it/s]"
     ]
    },
    {
     "name": "stdout",
     "output_type": "stream",
     "text": [
      "new max_iou 0.9292210249018508\n",
      "avg_iou:  0.9292210249018508\n",
      "avg_loss:  0.04666133597493172\n"
     ]
    },
    {
     "name": "stderr",
     "output_type": "stream",
     "text": [
      "Epoch 123/150: 100%|██████████| 1/1 [00:01<00:00,  1.45s/it, loss=0.0496]\n",
      "  0%|          | 0/1 [00:00<?, ?it/s]"
     ]
    },
    {
     "name": "stdout",
     "output_type": "stream",
     "text": [
      "new max_iou 0.9297080373632515\n",
      "avg_iou:  0.9297080373632515\n",
      "avg_loss:  0.049640171229839325\n"
     ]
    },
    {
     "name": "stderr",
     "output_type": "stream",
     "text": [
      "Epoch 124/150: 100%|██████████| 1/1 [00:01<00:00,  1.45s/it, loss=0.0513]\n",
      "  0%|          | 0/1 [00:00<?, ?it/s]"
     ]
    },
    {
     "name": "stdout",
     "output_type": "stream",
     "text": [
      "new max_iou 0.9303982232909587\n",
      "avg_iou:  0.9303982232909587\n",
      "avg_loss:  0.05130879580974579\n"
     ]
    },
    {
     "name": "stderr",
     "output_type": "stream",
     "text": [
      "Epoch 125/150: 100%|██████████| 1/1 [00:01<00:00,  1.45s/it, loss=0.0438]\n",
      "  0%|          | 0/1 [00:00<?, ?it/s]"
     ]
    },
    {
     "name": "stdout",
     "output_type": "stream",
     "text": [
      "new max_iou 0.9308055020795903\n",
      "avg_iou:  0.9308055020795903\n",
      "avg_loss:  0.04377240687608719\n"
     ]
    },
    {
     "name": "stderr",
     "output_type": "stream",
     "text": [
      "Epoch 126/150: 100%|██████████| 1/1 [00:01<00:00,  1.40s/it, loss=0.0456]\n",
      "  0%|          | 0/1 [00:00<?, ?it/s]"
     ]
    },
    {
     "name": "stdout",
     "output_type": "stream",
     "text": [
      "avg_iou:  0.930634710514448\n",
      "avg_loss:  0.04555646702647209\n"
     ]
    },
    {
     "name": "stderr",
     "output_type": "stream",
     "text": [
      "Epoch 127/150: 100%|██████████| 1/1 [00:01<00:00,  1.42s/it, loss=0.0458]\n",
      "  0%|          | 0/1 [00:00<?, ?it/s]"
     ]
    },
    {
     "name": "stdout",
     "output_type": "stream",
     "text": [
      "avg_iou:  0.9302413062871957\n",
      "avg_loss:  0.04578661173582077\n"
     ]
    },
    {
     "name": "stderr",
     "output_type": "stream",
     "text": [
      "Epoch 128/150: 100%|██████████| 1/1 [00:01<00:00,  1.41s/it, loss=0.0412]\n",
      "  0%|          | 0/1 [00:00<?, ?it/s]"
     ]
    },
    {
     "name": "stdout",
     "output_type": "stream",
     "text": [
      "avg_iou:  0.9301868924612123\n",
      "avg_loss:  0.04123536869883537\n"
     ]
    },
    {
     "name": "stderr",
     "output_type": "stream",
     "text": [
      "Epoch 129/150: 100%|██████████| 1/1 [00:01<00:00,  1.40s/it, loss=0.0441]\n",
      "  0%|          | 0/1 [00:00<?, ?it/s]"
     ]
    },
    {
     "name": "stdout",
     "output_type": "stream",
     "text": [
      "avg_iou:  0.929665311578637\n",
      "avg_loss:  0.044128745794296265\n"
     ]
    },
    {
     "name": "stderr",
     "output_type": "stream",
     "text": [
      "Epoch 130/150: 100%|██████████| 1/1 [00:01<00:00,  1.41s/it, loss=0.0563]\n",
      "  0%|          | 0/1 [00:00<?, ?it/s]"
     ]
    },
    {
     "name": "stdout",
     "output_type": "stream",
     "text": [
      "avg_iou:  0.9292700232344736\n",
      "avg_loss:  0.05627968907356262\n"
     ]
    },
    {
     "name": "stderr",
     "output_type": "stream",
     "text": [
      "Epoch 131/150: 100%|██████████| 1/1 [00:01<00:00,  1.41s/it, loss=0.0683]\n",
      "  0%|          | 0/1 [00:00<?, ?it/s]"
     ]
    },
    {
     "name": "stdout",
     "output_type": "stream",
     "text": [
      "avg_iou:  0.9288315587566536\n",
      "avg_loss:  0.06827936321496964\n"
     ]
    },
    {
     "name": "stderr",
     "output_type": "stream",
     "text": [
      "Epoch 132/150: 100%|██████████| 1/1 [00:01<00:00,  1.41s/it, loss=0.0625]\n",
      "  0%|          | 0/1 [00:00<?, ?it/s]"
     ]
    },
    {
     "name": "stdout",
     "output_type": "stream",
     "text": [
      "avg_iou:  0.9288623820059659\n",
      "avg_loss:  0.06245134025812149\n"
     ]
    },
    {
     "name": "stderr",
     "output_type": "stream",
     "text": [
      "Epoch 133/150: 100%|██████████| 1/1 [00:01<00:00,  1.39s/it, loss=0.0495]\n",
      "  0%|          | 0/1 [00:00<?, ?it/s]"
     ]
    },
    {
     "name": "stdout",
     "output_type": "stream",
     "text": [
      "avg_iou:  0.9289028422203081\n",
      "avg_loss:  0.04945259541273117\n"
     ]
    },
    {
     "name": "stderr",
     "output_type": "stream",
     "text": [
      "Epoch 134/150: 100%|██████████| 1/1 [00:01<00:00,  1.45s/it, loss=0.0569]\n",
      "  0%|          | 0/1 [00:00<?, ?it/s]"
     ]
    },
    {
     "name": "stdout",
     "output_type": "stream",
     "text": [
      "avg_iou:  0.9295894106042798\n",
      "avg_loss:  0.056851089000701904\n"
     ]
    },
    {
     "name": "stderr",
     "output_type": "stream",
     "text": [
      "Epoch 135/150: 100%|██████████| 1/1 [00:01<00:00,  1.50s/it, loss=0.0484]\n",
      "  0%|          | 0/1 [00:00<?, ?it/s]"
     ]
    },
    {
     "name": "stdout",
     "output_type": "stream",
     "text": [
      "avg_iou:  0.9291864566851487\n",
      "avg_loss:  0.048393335193395615\n"
     ]
    },
    {
     "name": "stderr",
     "output_type": "stream",
     "text": [
      "Epoch 136/150: 100%|██████████| 1/1 [00:01<00:00,  1.49s/it, loss=0.0442]\n",
      "  0%|          | 0/1 [00:00<?, ?it/s]"
     ]
    },
    {
     "name": "stdout",
     "output_type": "stream",
     "text": [
      "avg_iou:  0.9287805419515105\n",
      "avg_loss:  0.044218409806489944\n"
     ]
    },
    {
     "name": "stderr",
     "output_type": "stream",
     "text": [
      "Epoch 137/150: 100%|██████████| 1/1 [00:01<00:00,  1.41s/it, loss=0.0447]\n",
      "  0%|          | 0/1 [00:00<?, ?it/s]"
     ]
    },
    {
     "name": "stdout",
     "output_type": "stream",
     "text": [
      "avg_iou:  0.9294481935081584\n",
      "avg_loss:  0.04465151205658913\n"
     ]
    },
    {
     "name": "stderr",
     "output_type": "stream",
     "text": [
      "Epoch 138/150: 100%|██████████| 1/1 [00:01<00:00,  1.41s/it, loss=0.0479]\n",
      "  0%|          | 0/1 [00:00<?, ?it/s]"
     ]
    },
    {
     "name": "stdout",
     "output_type": "stream",
     "text": [
      "avg_iou:  0.9298118869664368\n",
      "avg_loss:  0.047886479645967484\n"
     ]
    },
    {
     "name": "stderr",
     "output_type": "stream",
     "text": [
      "Epoch 139/150: 100%|██████████| 1/1 [00:01<00:00,  1.44s/it, loss=0.0463]\n",
      "  0%|          | 0/1 [00:00<?, ?it/s]"
     ]
    },
    {
     "name": "stdout",
     "output_type": "stream",
     "text": [
      "avg_iou:  0.9306890746959378\n",
      "avg_loss:  0.046346716582775116\n"
     ]
    },
    {
     "name": "stderr",
     "output_type": "stream",
     "text": [
      "Epoch 140/150: 100%|██████████| 1/1 [00:01<00:00,  1.49s/it, loss=0.0445]\n",
      "  0%|          | 0/1 [00:00<?, ?it/s]"
     ]
    },
    {
     "name": "stdout",
     "output_type": "stream",
     "text": [
      "avg_iou:  0.9306478982956763\n",
      "avg_loss:  0.044476889073848724\n"
     ]
    },
    {
     "name": "stderr",
     "output_type": "stream",
     "text": [
      "Epoch 141/150: 100%|██████████| 1/1 [00:01<00:00,  1.53s/it, loss=0.0442]\n",
      "  0%|          | 0/1 [00:00<?, ?it/s]"
     ]
    },
    {
     "name": "stdout",
     "output_type": "stream",
     "text": [
      "new max_iou 0.9310479212781181\n",
      "avg_iou:  0.9310479212781181\n",
      "avg_loss:  0.04420652240514755\n"
     ]
    },
    {
     "name": "stderr",
     "output_type": "stream",
     "text": [
      "Epoch 142/150: 100%|██████████| 1/1 [00:01<00:00,  1.49s/it, loss=0.0458]\n",
      "  0%|          | 0/1 [00:00<?, ?it/s]"
     ]
    },
    {
     "name": "stdout",
     "output_type": "stream",
     "text": [
      "new max_iou 0.931063758717156\n",
      "avg_iou:  0.931063758717156\n",
      "avg_loss:  0.045771241188049316\n"
     ]
    },
    {
     "name": "stderr",
     "output_type": "stream",
     "text": [
      "Epoch 143/150: 100%|██████████| 1/1 [00:01<00:00,  1.45s/it, loss=0.0666]\n",
      "  0%|          | 0/1 [00:00<?, ?it/s]"
     ]
    },
    {
     "name": "stdout",
     "output_type": "stream",
     "text": [
      "new max_iou 0.9313077019490718\n",
      "avg_iou:  0.9313077019490718\n",
      "avg_loss:  0.06664591282606125\n"
     ]
    },
    {
     "name": "stderr",
     "output_type": "stream",
     "text": [
      "Epoch 144/150: 100%|██████████| 1/1 [00:01<00:00,  1.42s/it, loss=0.0445]\n",
      "  0%|          | 0/1 [00:00<?, ?it/s]"
     ]
    },
    {
     "name": "stdout",
     "output_type": "stream",
     "text": [
      "avg_iou:  0.9309567540500507\n",
      "avg_loss:  0.04450499638915062\n"
     ]
    },
    {
     "name": "stderr",
     "output_type": "stream",
     "text": [
      "Epoch 145/150: 100%|██████████| 1/1 [00:01<00:00,  1.47s/it, loss=0.0455]\n",
      "  0%|          | 0/1 [00:00<?, ?it/s]"
     ]
    },
    {
     "name": "stdout",
     "output_type": "stream",
     "text": [
      "avg_iou:  0.9305766048868818\n",
      "avg_loss:  0.04553481936454773\n"
     ]
    },
    {
     "name": "stderr",
     "output_type": "stream",
     "text": [
      "Epoch 146/150: 100%|██████████| 1/1 [00:01<00:00,  1.48s/it, loss=0.0468]\n",
      "  0%|          | 0/1 [00:00<?, ?it/s]"
     ]
    },
    {
     "name": "stdout",
     "output_type": "stream",
     "text": [
      "avg_iou:  0.9306245046107015\n",
      "avg_loss:  0.0468224361538887\n"
     ]
    },
    {
     "name": "stderr",
     "output_type": "stream",
     "text": [
      "Epoch 147/150: 100%|██████████| 1/1 [00:01<00:00,  1.48s/it, loss=0.043]\n",
      "  0%|          | 0/1 [00:00<?, ?it/s]"
     ]
    },
    {
     "name": "stdout",
     "output_type": "stream",
     "text": [
      "avg_iou:  0.9308752555677983\n",
      "avg_loss:  0.042975980788469315\n"
     ]
    },
    {
     "name": "stderr",
     "output_type": "stream",
     "text": [
      "Epoch 148/150: 100%|██████████| 1/1 [00:01<00:00,  1.43s/it, loss=0.0566]\n",
      "  0%|          | 0/1 [00:00<?, ?it/s]"
     ]
    },
    {
     "name": "stdout",
     "output_type": "stream",
     "text": [
      "new max_iou 0.931441619560421\n",
      "avg_iou:  0.931441619560421\n",
      "avg_loss:  0.05656161531805992\n"
     ]
    },
    {
     "name": "stderr",
     "output_type": "stream",
     "text": [
      "Epoch 149/150: 100%|██████████| 1/1 [00:01<00:00,  1.40s/it, loss=0.043]\n",
      "  0%|          | 0/1 [00:00<?, ?it/s]"
     ]
    },
    {
     "name": "stdout",
     "output_type": "stream",
     "text": [
      "avg_iou:  0.9314402696163072\n",
      "avg_loss:  0.042970746755599976\n"
     ]
    },
    {
     "name": "stderr",
     "output_type": "stream",
     "text": [
      "Epoch 150/150: 100%|██████████| 1/1 [00:01<00:00,  1.44s/it, loss=0.0488]"
     ]
    },
    {
     "name": "stdout",
     "output_type": "stream",
     "text": [
      "avg_iou:  0.9310416782603772\n",
      "avg_loss:  0.04875721409916878\n"
     ]
    },
    {
     "name": "stderr",
     "output_type": "stream",
     "text": [
      "\n"
     ]
    }
   ],
   "source": [
    "num_epochs = 150\n",
    "batchSize = 20\n",
    "\n",
    "mean = [0.28689554, 0.32513303, 0.28389177]\n",
    "std = [0.18696375, 0.19017339, 0.18720214]\n",
    "transform = transforms.Compose([\n",
    "                transforms.ToTensor(),\n",
    "                transforms.Normalize(mean = mean, std = std)\n",
    "            ])\n",
    "trainset = CityscapesDataset(transform = transform, size = 2)\n",
    "valset = CityscapesDataset(image_path = 'images', transform = transform, size = 2)\n",
    "trainloader = data.DataLoader(valset, batch_size = batchSize, shuffle = True, drop_last = True)\n",
    "valloader = data.DataLoader(valset, batch_size = batchSize, shuffle = True, drop_last = True)\n",
    "\n",
    "net = ENet(num_classes = 1)\n",
    "# net.load_state_dict(torch.load('saved_models/new_road3.pt', map_location = 'cpu'))\n",
    "net = net.to('cuda:1')\n",
    "\n",
    "optimizer = torch.optim.Adam(net.parameters(), lr = 1e-2)\n",
    "scheduler = torch.optim.lr_scheduler.OneCycleLR(optimizer, max_lr = 1e-2, steps_per_epoch = len(trainloader), epochs = num_epochs)\n",
    "# optimizer.load_state_dict(torch.load('saved_models/new_road3_opt.pt'))\n",
    "criterion = nn.BCEWithLogitsLoss()\n",
    "        \n",
    "\n",
    "highest_iou = 0\n",
    "for epoch in range(num_epochs) :\n",
    "    highest_iou = train(model = net, train_loader = trainloader, val_loader = valloader,loss_function = criterion, optimiser = optimizer, scheduler = scheduler, epoch = epoch, num_epochs = num_epochs, savename = 'saved_models/testing.pt', highest_iou = highest_iou)\n"
   ]
  },
  {
   "cell_type": "code",
   "execution_count": null,
   "metadata": {},
   "outputs": [],
   "source": []
  }
 ],
 "metadata": {
  "kernelspec": {
   "display_name": "Python 3",
   "language": "python",
   "name": "python3"
  },
  "language_info": {
   "codemirror_mode": {
    "name": "ipython",
    "version": 3
   },
   "file_extension": ".py",
   "mimetype": "text/x-python",
   "name": "python",
   "nbconvert_exporter": "python",
   "pygments_lexer": "ipython3",
   "version": "3.7.4"
  }
 },
 "nbformat": 4,
 "nbformat_minor": 2
}
